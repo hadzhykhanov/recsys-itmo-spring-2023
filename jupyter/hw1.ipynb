{
 "cells": [
  {
   "cell_type": "markdown",
   "metadata": {},
   "source": [
    "# Week 1 Seminar\n",
    "\n",
    "A/B experiment analysis"
   ]
  },
  {
   "cell_type": "code",
   "execution_count": 73,
   "metadata": {
    "ExecuteTime": {
     "end_time": "2023-04-12T17:57:23.845638Z",
     "start_time": "2023-04-12T17:57:12.808710Z"
    },
    "tags": []
   },
   "outputs": [],
   "source": [
    "from collections import namedtuple\n",
    "\n",
    "import pandas as pd\n",
    "import numpy as np\n",
    "import scipy.stats as ss\n",
    "\n",
    "import matplotlib.pyplot as plt\n",
    "\n",
    "pd.set_option(\"display.precision\", 3)\n",
    "\n",
    "%matplotlib inline"
   ]
  },
  {
   "cell_type": "code",
   "execution_count": 74,
   "metadata": {
    "ExecuteTime": {
     "end_time": "2023-04-12T17:57:08.949497Z",
     "start_time": "2023-04-12T17:57:08.923268Z"
    },
    "tags": []
   },
   "outputs": [],
   "source": [
    "experiment = \"CONTEXTUAL_UPDATED\""
   ]
  },
  {
   "cell_type": "code",
   "execution_count": 75,
   "metadata": {
    "tags": []
   },
   "outputs": [],
   "source": [
    "data = pd.read_json(\"/Users/vladislavgadzihanov/PycharmProjects/recsys-itmo-spring-2023/tmp/log/data.json\", lines=True)\n",
    "data[\"treatment\"] = data[\"experiments\"].map(lambda experiments: experiments[experiment])"
   ]
  },
  {
   "cell_type": "code",
   "execution_count": 76,
   "metadata": {
    "tags": []
   },
   "outputs": [
    {
     "data": {
      "text/html": [
       "<div>\n",
       "<style scoped>\n",
       "    .dataframe tbody tr th:only-of-type {\n",
       "        vertical-align: middle;\n",
       "    }\n",
       "\n",
       "    .dataframe tbody tr th {\n",
       "        vertical-align: top;\n",
       "    }\n",
       "\n",
       "    .dataframe thead th {\n",
       "        text-align: right;\n",
       "    }\n",
       "</style>\n",
       "<table border=\"1\" class=\"dataframe\">\n",
       "  <thead>\n",
       "    <tr style=\"text-align: right;\">\n",
       "      <th></th>\n",
       "      <th>message</th>\n",
       "      <th>timestamp</th>\n",
       "      <th>user</th>\n",
       "      <th>track</th>\n",
       "      <th>time</th>\n",
       "      <th>latency</th>\n",
       "      <th>recommendation</th>\n",
       "      <th>experiments</th>\n",
       "      <th>treatment</th>\n",
       "    </tr>\n",
       "  </thead>\n",
       "  <tbody>\n",
       "    <tr>\n",
       "      <th>0</th>\n",
       "      <td>next</td>\n",
       "      <td>2023-04-12 23:59:22.663</td>\n",
       "      <td>3255</td>\n",
       "      <td>2659</td>\n",
       "      <td>1.00</td>\n",
       "      <td>4.147e-03</td>\n",
       "      <td>1995.0</td>\n",
       "      <td>{'CONTEXTUAL_UPDATED': 'T1'}</td>\n",
       "      <td>T1</td>\n",
       "    </tr>\n",
       "    <tr>\n",
       "      <th>1</th>\n",
       "      <td>next</td>\n",
       "      <td>2023-04-12 23:59:22.672</td>\n",
       "      <td>3255</td>\n",
       "      <td>1995</td>\n",
       "      <td>1.00</td>\n",
       "      <td>3.543e-04</td>\n",
       "      <td>1998.0</td>\n",
       "      <td>{'CONTEXTUAL_UPDATED': 'T1'}</td>\n",
       "      <td>T1</td>\n",
       "    </tr>\n",
       "    <tr>\n",
       "      <th>2</th>\n",
       "      <td>next</td>\n",
       "      <td>2023-04-12 23:59:22.678</td>\n",
       "      <td>3255</td>\n",
       "      <td>1998</td>\n",
       "      <td>1.00</td>\n",
       "      <td>4.435e-04</td>\n",
       "      <td>773.0</td>\n",
       "      <td>{'CONTEXTUAL_UPDATED': 'T1'}</td>\n",
       "      <td>T1</td>\n",
       "    </tr>\n",
       "    <tr>\n",
       "      <th>3</th>\n",
       "      <td>next</td>\n",
       "      <td>2023-04-12 23:59:22.686</td>\n",
       "      <td>3255</td>\n",
       "      <td>773</td>\n",
       "      <td>0.47</td>\n",
       "      <td>3.467e-04</td>\n",
       "      <td>11831.0</td>\n",
       "      <td>{'CONTEXTUAL_UPDATED': 'T1'}</td>\n",
       "      <td>T1</td>\n",
       "    </tr>\n",
       "    <tr>\n",
       "      <th>4</th>\n",
       "      <td>next</td>\n",
       "      <td>2023-04-12 23:59:22.692</td>\n",
       "      <td>3255</td>\n",
       "      <td>11831</td>\n",
       "      <td>0.99</td>\n",
       "      <td>4.089e-04</td>\n",
       "      <td>6024.0</td>\n",
       "      <td>{'CONTEXTUAL_UPDATED': 'T1'}</td>\n",
       "      <td>T1</td>\n",
       "    </tr>\n",
       "    <tr>\n",
       "      <th>...</th>\n",
       "      <td>...</td>\n",
       "      <td>...</td>\n",
       "      <td>...</td>\n",
       "      <td>...</td>\n",
       "      <td>...</td>\n",
       "      <td>...</td>\n",
       "      <td>...</td>\n",
       "      <td>...</td>\n",
       "      <td>...</td>\n",
       "    </tr>\n",
       "    <tr>\n",
       "      <th>95</th>\n",
       "      <td>next</td>\n",
       "      <td>2023-04-12 23:59:23.331</td>\n",
       "      <td>366</td>\n",
       "      <td>2714</td>\n",
       "      <td>1.00</td>\n",
       "      <td>5.047e-04</td>\n",
       "      <td>5236.0</td>\n",
       "      <td>{'CONTEXTUAL_UPDATED': 'C'}</td>\n",
       "      <td>C</td>\n",
       "    </tr>\n",
       "    <tr>\n",
       "      <th>96</th>\n",
       "      <td>next</td>\n",
       "      <td>2023-04-12 23:59:23.337</td>\n",
       "      <td>366</td>\n",
       "      <td>5236</td>\n",
       "      <td>1.00</td>\n",
       "      <td>4.563e-04</td>\n",
       "      <td>2254.0</td>\n",
       "      <td>{'CONTEXTUAL_UPDATED': 'C'}</td>\n",
       "      <td>C</td>\n",
       "    </tr>\n",
       "    <tr>\n",
       "      <th>97</th>\n",
       "      <td>next</td>\n",
       "      <td>2023-04-12 23:59:23.344</td>\n",
       "      <td>366</td>\n",
       "      <td>2254</td>\n",
       "      <td>1.00</td>\n",
       "      <td>3.586e-04</td>\n",
       "      <td>1544.0</td>\n",
       "      <td>{'CONTEXTUAL_UPDATED': 'C'}</td>\n",
       "      <td>C</td>\n",
       "    </tr>\n",
       "    <tr>\n",
       "      <th>98</th>\n",
       "      <td>last</td>\n",
       "      <td>2023-04-12 23:59:23.350</td>\n",
       "      <td>366</td>\n",
       "      <td>1544</td>\n",
       "      <td>0.00</td>\n",
       "      <td>6.461e-05</td>\n",
       "      <td>NaN</td>\n",
       "      <td>{'CONTEXTUAL_UPDATED': 'C'}</td>\n",
       "      <td>C</td>\n",
       "    </tr>\n",
       "    <tr>\n",
       "      <th>99</th>\n",
       "      <td>next</td>\n",
       "      <td>2023-04-12 23:59:23.369</td>\n",
       "      <td>6730</td>\n",
       "      <td>15849</td>\n",
       "      <td>1.00</td>\n",
       "      <td>3.710e-04</td>\n",
       "      <td>181.0</td>\n",
       "      <td>{'CONTEXTUAL_UPDATED': 'C'}</td>\n",
       "      <td>C</td>\n",
       "    </tr>\n",
       "  </tbody>\n",
       "</table>\n",
       "<p>100 rows × 9 columns</p>\n",
       "</div>"
      ],
      "text/plain": [
       "   message               timestamp  user  track  time    latency  \\\n",
       "0     next 2023-04-12 23:59:22.663  3255   2659  1.00  4.147e-03   \n",
       "1     next 2023-04-12 23:59:22.672  3255   1995  1.00  3.543e-04   \n",
       "2     next 2023-04-12 23:59:22.678  3255   1998  1.00  4.435e-04   \n",
       "3     next 2023-04-12 23:59:22.686  3255    773  0.47  3.467e-04   \n",
       "4     next 2023-04-12 23:59:22.692  3255  11831  0.99  4.089e-04   \n",
       "..     ...                     ...   ...    ...   ...        ...   \n",
       "95    next 2023-04-12 23:59:23.331   366   2714  1.00  5.047e-04   \n",
       "96    next 2023-04-12 23:59:23.337   366   5236  1.00  4.563e-04   \n",
       "97    next 2023-04-12 23:59:23.344   366   2254  1.00  3.586e-04   \n",
       "98    last 2023-04-12 23:59:23.350   366   1544  0.00  6.461e-05   \n",
       "99    next 2023-04-12 23:59:23.369  6730  15849  1.00  3.710e-04   \n",
       "\n",
       "    recommendation                   experiments treatment  \n",
       "0           1995.0  {'CONTEXTUAL_UPDATED': 'T1'}        T1  \n",
       "1           1998.0  {'CONTEXTUAL_UPDATED': 'T1'}        T1  \n",
       "2            773.0  {'CONTEXTUAL_UPDATED': 'T1'}        T1  \n",
       "3          11831.0  {'CONTEXTUAL_UPDATED': 'T1'}        T1  \n",
       "4           6024.0  {'CONTEXTUAL_UPDATED': 'T1'}        T1  \n",
       "..             ...                           ...       ...  \n",
       "95          5236.0   {'CONTEXTUAL_UPDATED': 'C'}         C  \n",
       "96          2254.0   {'CONTEXTUAL_UPDATED': 'C'}         C  \n",
       "97          1544.0   {'CONTEXTUAL_UPDATED': 'C'}         C  \n",
       "98             NaN   {'CONTEXTUAL_UPDATED': 'C'}         C  \n",
       "99           181.0   {'CONTEXTUAL_UPDATED': 'C'}         C  \n",
       "\n",
       "[100 rows x 9 columns]"
      ]
     },
     "execution_count": 76,
     "metadata": {},
     "output_type": "execute_result"
    }
   ],
   "source": [
    "data.head(100)"
   ]
  },
  {
   "cell_type": "code",
   "execution_count": 77,
   "metadata": {},
   "outputs": [
    {
     "data": {
      "text/plain": [
       "1.00    81903\n",
       "0.00    54671\n",
       "0.01    10384\n",
       "0.99     7850\n",
       "0.80     7300\n",
       "        ...  \n",
       "0.56      499\n",
       "0.49      495\n",
       "0.47      495\n",
       "0.55      491\n",
       "0.53      467\n",
       "Name: time, Length: 101, dtype: int64"
      ]
     },
     "execution_count": 77,
     "metadata": {},
     "output_type": "execute_result"
    }
   ],
   "source": [
    "data.time.value_counts()"
   ]
  },
  {
   "cell_type": "markdown",
   "metadata": {},
   "source": [
    "## Visualize sessions"
   ]
  },
  {
   "cell_type": "code",
   "execution_count": 78,
   "metadata": {
    "tags": []
   },
   "outputs": [],
   "source": [
    "Session = namedtuple(\"Session\", [\"timestamp\", \"tracks\", \"time\", \"latency\"])\n",
    "\n",
    "def sessionize(user_data):\n",
    "    sessions = []\n",
    "    session = None\n",
    "    for _, row in user_data.sort_values(\"timestamp\").iterrows():\n",
    "        if session is None:\n",
    "            session = Session(row[\"timestamp\"], 0, 0, 0)\n",
    "        \n",
    "        session = session._replace(\n",
    "            tracks = session.tracks + 1, \n",
    "            time = session.time + row[\"time\"],\n",
    "            latency = session.latency + row[\"latency\"] * 1000,\n",
    "        )\n",
    "        \n",
    "        if row[\"message\"] == \"last\":\n",
    "            sessions.append(session._asdict())\n",
    "            session = None\n",
    "    return sessions"
   ]
  },
  {
   "cell_type": "code",
   "execution_count": 79,
   "metadata": {
    "tags": []
   },
   "outputs": [],
   "source": [
    "sessions = (\n",
    "    data\n",
    "    .groupby([\"user\", \"treatment\"])\n",
    "    .apply(sessionize)\n",
    "    .explode()\n",
    "    .apply(pd.Series)\n",
    ")"
   ]
  },
  {
   "cell_type": "code",
   "execution_count": 80,
   "metadata": {
    "tags": []
   },
   "outputs": [
    {
     "data": {
      "image/png": "[encoded data removed]",
      "text/plain": [
       "<Figure size 1500x500 with 1 Axes>"
      ]
     },
     "metadata": {},
     "output_type": "display_data"
    }
   ],
   "source": [
    "figure, ax = plt.subplots(figsize=(15, 5))\n",
    "for treatment, treatment_sessions in sessions.groupby(\"treatment\"):\n",
    "    reindexed_treatment_sessions = treatment_sessions.sort_values(\"timestamp\").reset_index()\n",
    "    ax.plot(reindexed_treatment_sessions.index, reindexed_treatment_sessions[\"tracks\"], label=treatment)\n",
    "ax.legend()\n",
    "pass"
   ]
  },
  {
   "cell_type": "code",
   "execution_count": 81,
   "metadata": {
    "tags": []
   },
   "outputs": [
    {
     "data": {
      "image/png": "[encoded data removed]",
      "text/plain": [
       "<Figure size 1500x500 with 1 Axes>"
      ]
     },
     "metadata": {},
     "output_type": "display_data"
    }
   ],
   "source": [
    "figure, ax = plt.subplots(figsize=(15, 5))\n",
    "for treatment, treatment_sessions in sessions.groupby(\"treatment\"):\n",
    "    reindexed_treatment_sessions = treatment_sessions.sort_values(\"timestamp\").reset_index()\n",
    "    ax.plot(reindexed_treatment_sessions.index, reindexed_treatment_sessions[\"time\"], label=treatment)\n",
    "ax.legend()\n",
    "pass"
   ]
  },
  {
   "cell_type": "markdown",
   "metadata": {},
   "source": [
    "## Analyze the experiment"
   ]
  },
  {
   "cell_type": "code",
   "execution_count": 82,
   "metadata": {
    "tags": []
   },
   "outputs": [],
   "source": [
    "user_level_data = (\n",
    "  sessions\n",
    "    .reset_index()\n",
    "    .groupby([\"user\", \"treatment\"])\n",
    "    .agg(\n",
    "        {\n",
    "            \"timestamp\": \"count\",\n",
    "            \"tracks\": \"sum\",\n",
    "            \"time\": \"sum\",\n",
    "            \"latency\": \"sum\"\n",
    "        }\n",
    "    )\n",
    ")\n",
    "\n",
    "user_level_data[\"sessions\"] = user_level_data[\"timestamp\"]\n",
    "user_level_data[\"mean_request_latency\"] = user_level_data[\"latency\"] / user_level_data[\"tracks\"]\n",
    "user_level_data[\"mean_tracks_per_session\"] = user_level_data[\"tracks\"] / user_level_data[\"sessions\"]\n",
    "user_level_data[\"mean_time_per_session\"] = user_level_data[\"time\"] / user_level_data[\"sessions\"]\n",
    "\n",
    "metrics = [\n",
    "    \"time\", \n",
    "    \"sessions\", \n",
    "    \"mean_request_latency\", \n",
    "    \"mean_tracks_per_session\", \n",
    "    \"mean_time_per_session\"\n",
    "]\n",
    "\n",
    "user_level_metrics = user_level_data[metrics].copy().reset_index()"
   ]
  },
  {
   "cell_type": "code",
   "execution_count": 83,
   "metadata": {
    "tags": []
   },
   "outputs": [],
   "source": [
    "treatment_level_metrics = (\n",
    "    user_level_metrics\n",
    "    .groupby(\"treatment\")[metrics]\n",
    "    .agg([\"count\", \"mean\", \"var\"])\n",
    ")"
   ]
  },
  {
   "cell_type": "code",
   "execution_count": 84,
   "metadata": {
    "tags": []
   },
   "outputs": [],
   "source": [
    "def dof(n_0, n_1, s2_0, s2_1):\n",
    "    numerator = (s2_0 / n_0 + s2_1 / n_1) * (s2_0 / n_0 + s2_1 / n_1)\n",
    "    denominator = s2_0 * s2_0 / n_0 / n_0 / (n_0 - 1) + s2_1 * s2_1 / n_1 / n_1 / (n_1 - 1)\n",
    "    return numerator / denominator\n",
    "\n",
    "\n",
    "def ci(n_0, n_1, s2_0, s2_1, alpha=0.05):\n",
    "    return ss.t.ppf(1 - alpha/2, dof(n_0, n_1, s2_0, s2_1)) * np.sqrt(s2_0 / n_0 + s2_1 / n_1)\n",
    "\n",
    "\n",
    "effects = []\n",
    "\n",
    "control = [data for treatment, data in treatment_level_metrics.iterrows() if treatment == \"C\"][0]\n",
    "\n",
    "for treatment, row in treatment_level_metrics.iterrows():\n",
    "    if treatment == \"C\":\n",
    "        continue\n",
    "    \n",
    "    for metric in metrics:\n",
    "        control_mean = control[metric][\"mean\"]\n",
    "        treatment_mean = row[metric][\"mean\"]\n",
    "        \n",
    "        effect = treatment_mean - control_mean\n",
    "        conf_int = ci(\n",
    "            control[metric][\"count\"],\n",
    "            row[metric][\"count\"],\n",
    "            control[metric][\"var\"],\n",
    "            row[metric][\"var\"],\n",
    "        )\n",
    "        effects.append({\n",
    "            \"treatment\": treatment,\n",
    "            \"metric\": metric,\n",
    "            \"control_mean\": control_mean,\n",
    "            \"treatment_mean\": treatment_mean,\n",
    "            \"effect\": effect / control_mean * 100,\n",
    "            \"lower\": (effect - conf_int) / control_mean * 100,\n",
    "            \"upper\": (effect + conf_int) / control_mean * 100,\n",
    "            \"significant\": (effect + conf_int) * (effect - conf_int) > 0\n",
    "        })"
   ]
  },
  {
   "cell_type": "code",
   "execution_count": 85,
   "metadata": {
    "tags": []
   },
   "outputs": [
    {
     "data": {
      "text/html": [
       "<style type=\"text/css\">\n",
       "#T_9fdd6_row0_col2, #T_9fdd6_row0_col3, #T_9fdd6_row0_col4, #T_9fdd6_row1_col2, #T_9fdd6_row1_col3, #T_9fdd6_row2_col2, #T_9fdd6_row2_col3, #T_9fdd6_row2_col4, #T_9fdd6_row3_col2, #T_9fdd6_row3_col3, #T_9fdd6_row3_col4, #T_9fdd6_row4_col3 {\n",
       "  color: green;\n",
       "}\n",
       "#T_9fdd6_row0_col7, #T_9fdd6_row2_col7, #T_9fdd6_row3_col7 {\n",
       "  color: white;\n",
       "  background-color: green;\n",
       "}\n",
       "#T_9fdd6_row1_col4, #T_9fdd6_row4_col2, #T_9fdd6_row4_col4 {\n",
       "  color: red;\n",
       "}\n",
       "#T_9fdd6_row1_col7, #T_9fdd6_row4_col7 {\n",
       "  color: white;\n",
       "  background-color: red;\n",
       "}\n",
       "</style>\n",
       "<table id=\"T_9fdd6\">\n",
       "  <thead>\n",
       "    <tr>\n",
       "      <th class=\"blank level0\" >&nbsp;</th>\n",
       "      <th id=\"T_9fdd6_level0_col0\" class=\"col_heading level0 col0\" >treatment</th>\n",
       "      <th id=\"T_9fdd6_level0_col1\" class=\"col_heading level0 col1\" >metric</th>\n",
       "      <th id=\"T_9fdd6_level0_col2\" class=\"col_heading level0 col2\" >effect</th>\n",
       "      <th id=\"T_9fdd6_level0_col3\" class=\"col_heading level0 col3\" >upper</th>\n",
       "      <th id=\"T_9fdd6_level0_col4\" class=\"col_heading level0 col4\" >lower</th>\n",
       "      <th id=\"T_9fdd6_level0_col5\" class=\"col_heading level0 col5\" >control_mean</th>\n",
       "      <th id=\"T_9fdd6_level0_col6\" class=\"col_heading level0 col6\" >treatment_mean</th>\n",
       "      <th id=\"T_9fdd6_level0_col7\" class=\"col_heading level0 col7\" >significant</th>\n",
       "    </tr>\n",
       "  </thead>\n",
       "  <tbody>\n",
       "    <tr>\n",
       "      <th id=\"T_9fdd6_level0_row0\" class=\"row_heading level0 row0\" >0</th>\n",
       "      <td id=\"T_9fdd6_row0_col0\" class=\"data row0 col0\" >T1</td>\n",
       "      <td id=\"T_9fdd6_row0_col1\" class=\"data row0 col1\" >time</td>\n",
       "      <td id=\"T_9fdd6_row0_col2\" class=\"data row0 col2\" >39.271463</td>\n",
       "      <td id=\"T_9fdd6_row0_col3\" class=\"data row0 col3\" >44.489756</td>\n",
       "      <td id=\"T_9fdd6_row0_col4\" class=\"data row0 col4\" >34.053171</td>\n",
       "      <td id=\"T_9fdd6_row0_col5\" class=\"data row0 col5\" >13.618483</td>\n",
       "      <td id=\"T_9fdd6_row0_col6\" class=\"data row0 col6\" >18.966660</td>\n",
       "      <td id=\"T_9fdd6_row0_col7\" class=\"data row0 col7\" >True</td>\n",
       "    </tr>\n",
       "    <tr>\n",
       "      <th id=\"T_9fdd6_level0_row1\" class=\"row_heading level0 row1\" >1</th>\n",
       "      <td id=\"T_9fdd6_row1_col0\" class=\"data row1 col0\" >T1</td>\n",
       "      <td id=\"T_9fdd6_row1_col1\" class=\"data row1 col1\" >sessions</td>\n",
       "      <td id=\"T_9fdd6_row1_col2\" class=\"data row1 col2\" >0.104081</td>\n",
       "      <td id=\"T_9fdd6_row1_col3\" class=\"data row1 col3\" >2.609959</td>\n",
       "      <td id=\"T_9fdd6_row1_col4\" class=\"data row1 col4\" >-2.401797</td>\n",
       "      <td id=\"T_9fdd6_row1_col5\" class=\"data row1 col5\" >2.733241</td>\n",
       "      <td id=\"T_9fdd6_row1_col6\" class=\"data row1 col6\" >2.736085</td>\n",
       "      <td id=\"T_9fdd6_row1_col7\" class=\"data row1 col7\" >False</td>\n",
       "    </tr>\n",
       "    <tr>\n",
       "      <th id=\"T_9fdd6_level0_row2\" class=\"row_heading level0 row2\" >3</th>\n",
       "      <td id=\"T_9fdd6_row2_col0\" class=\"data row2 col0\" >T1</td>\n",
       "      <td id=\"T_9fdd6_row2_col1\" class=\"data row2 col1\" >mean_tracks_per_session</td>\n",
       "      <td id=\"T_9fdd6_row2_col2\" class=\"data row2 col2\" >24.512830</td>\n",
       "      <td id=\"T_9fdd6_row2_col3\" class=\"data row2 col3\" >26.907256</td>\n",
       "      <td id=\"T_9fdd6_row2_col4\" class=\"data row2 col4\" >22.118403</td>\n",
       "      <td id=\"T_9fdd6_row2_col5\" class=\"data row2 col5\" >10.068648</td>\n",
       "      <td id=\"T_9fdd6_row2_col6\" class=\"data row2 col6\" >12.536758</td>\n",
       "      <td id=\"T_9fdd6_row2_col7\" class=\"data row2 col7\" >True</td>\n",
       "    </tr>\n",
       "    <tr>\n",
       "      <th id=\"T_9fdd6_level0_row3\" class=\"row_heading level0 row3\" >4</th>\n",
       "      <td id=\"T_9fdd6_row3_col0\" class=\"data row3 col0\" >T1</td>\n",
       "      <td id=\"T_9fdd6_row3_col1\" class=\"data row3 col1\" >mean_time_per_session</td>\n",
       "      <td id=\"T_9fdd6_row3_col2\" class=\"data row3 col2\" >48.547099</td>\n",
       "      <td id=\"T_9fdd6_row3_col3\" class=\"data row3 col3\" >53.229039</td>\n",
       "      <td id=\"T_9fdd6_row3_col4\" class=\"data row3 col4\" >43.865160</td>\n",
       "      <td id=\"T_9fdd6_row3_col5\" class=\"data row3 col5\" >5.069996</td>\n",
       "      <td id=\"T_9fdd6_row3_col6\" class=\"data row3 col6\" >7.531332</td>\n",
       "      <td id=\"T_9fdd6_row3_col7\" class=\"data row3 col7\" >True</td>\n",
       "    </tr>\n",
       "    <tr>\n",
       "      <th id=\"T_9fdd6_level0_row4\" class=\"row_heading level0 row4\" >2</th>\n",
       "      <td id=\"T_9fdd6_row4_col0\" class=\"data row4 col0\" >T1</td>\n",
       "      <td id=\"T_9fdd6_row4_col1\" class=\"data row4 col1\" >mean_request_latency</td>\n",
       "      <td id=\"T_9fdd6_row4_col2\" class=\"data row4 col2\" >-0.995083</td>\n",
       "      <td id=\"T_9fdd6_row4_col3\" class=\"data row4 col3\" >0.108840</td>\n",
       "      <td id=\"T_9fdd6_row4_col4\" class=\"data row4 col4\" >-2.099006</td>\n",
       "      <td id=\"T_9fdd6_row4_col5\" class=\"data row4 col5\" >0.835390</td>\n",
       "      <td id=\"T_9fdd6_row4_col6\" class=\"data row4 col6\" >0.827078</td>\n",
       "      <td id=\"T_9fdd6_row4_col7\" class=\"data row4 col7\" >False</td>\n",
       "    </tr>\n",
       "  </tbody>\n",
       "</table>\n"
      ],
      "text/plain": [
       "<pandas.io.formats.style.Styler at 0x7f9d20a559c0>"
      ]
     },
     "execution_count": 85,
     "metadata": {},
     "output_type": "execute_result"
    }
   ],
   "source": [
    "def color(value):\n",
    "    return 'color:red;' if value < 0 else 'color:green;'\n",
    "\n",
    "def background(value):\n",
    "    return 'color:white;background-color:green' if value else 'color:white;background-color:red'\n",
    "        \n",
    "\n",
    "(\n",
    "    pd.DataFrame(effects)[[\n",
    "        \"treatment\", \n",
    "        \"metric\",\n",
    "        \"effect\", \n",
    "        \"upper\", \n",
    "        \"lower\", \n",
    "        \"control_mean\", \n",
    "        \"treatment_mean\",\n",
    "        \"significant\"\n",
    "    ]]\n",
    "    .sort_values([\"metric\", \"treatment\"], ascending=False)\n",
    "    .style\n",
    "    .applymap(color, subset=[\"effect\", \"upper\", \"lower\"])\n",
    "    .applymap(background, subset=[\"significant\"])\n",
    ")"
   ]
  },
  {
   "cell_type": "code",
   "execution_count": null,
   "metadata": {},
   "outputs": [],
   "source": []
  }
 ],
 "metadata": {
  "kernelspec": {
   "display_name": "Python 3 (ipykernel)",
   "language": "python",
   "name": "python3"
  },
  "language_info": {
   "codemirror_mode": {
    "name": "ipython",
    "version": 3
   },
   "file_extension": ".py",
   "mimetype": "text/x-python",
   "name": "python",
   "nbconvert_exporter": "python",
   "pygments_lexer": "ipython3",
   "version": "3.10.9"
  }
 },
 "nbformat": 4,
 "nbformat_minor": 4
}
